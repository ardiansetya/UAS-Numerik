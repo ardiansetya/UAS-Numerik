{
 "cells": [
  {
   "attachments": {},
   "cell_type": "markdown",
   "metadata": {},
   "source": [
    "# 1. CENTER OF MASS"
   ]
  },
  {
   "cell_type": "code",
   "execution_count": 7,
   "metadata": {},
   "outputs": [],
   "source": [
    "#  Fungsi untuk menghitung pusat massa\n",
    "def hitung_pusat_massa(partikel):\n",
    "    total_massa = 0\n",
    "    sum_mx = 0\n",
    "    sum_my = 0\n",
    "    sum_mz = 0\n",
    "    \n",
    "    for massa, x, y, z in partikel:\n",
    "        total_massa += massa\n",
    "        sum_mx += massa * x\n",
    "        sum_my += massa * y\n",
    "        sum_mz += massa * z\n",
    "    \n",
    "    com_x = sum_mx / total_massa\n",
    "    com_y = sum_my / total_massa\n",
    "    com_z = sum_mz / total_massa\n",
    "    \n",
    "    return com_x, com_y, com_z"
   ]
  },
  {
   "cell_type": "code",
   "execution_count": 8,
   "metadata": {},
   "outputs": [],
   "source": [
    "# Data partikel\n",
    "partikel = [\n",
    "    (2, 1, 2, 3),   # Partikel 1: massa = 2 kg, koordinat (1, 2, 3)\n",
    "    (3, 4, 0, -1),  # Partikel 2: massa = 3 kg, koordinat (4, 0, -1)\n",
    "    (5, -2, 1, 3)   # Partikel 3: massa = 5 kg, koordinat (-2, 1, 3)\n",
    "]"
   ]
  },
  {
   "cell_type": "code",
   "execution_count": 9,
   "metadata": {},
   "outputs": [],
   "source": [
    "# Menghitung pusat massa\n",
    "com_x, com_y, com_z = hitung_pusat_massa(partikel)"
   ]
  },
  {
   "cell_type": "code",
   "execution_count": 12,
   "metadata": {},
   "outputs": [
    {
     "name": "stdout",
     "output_type": "stream",
     "text": [
      "\n",
      "Koordinat pusat massa (center of mass) adalah (0.40, 0.90, 1.80) meter\n"
     ]
    }
   ],
   "source": [
    "# Menampilkan hasil\n",
    "print(f\"\\nKoordinat pusat massa (center of mass) adalah ({com_x:.2f}, {com_y:.2f}, {com_z:.2f}) meter\")"
   ]
  },
  {
   "attachments": {},
   "cell_type": "markdown",
   "metadata": {},
   "source": [
    "# 2. Vector Dot Product dan Cross Product"
   ]
  },
  {
   "cell_type": "code",
   "execution_count": 13,
   "metadata": {},
   "outputs": [],
   "source": [
    "import numpy as np\n"
   ]
  },
  {
   "cell_type": "code",
   "execution_count": 14,
   "metadata": {},
   "outputs": [],
   "source": [
    "# Fungsi untuk menjumlahkan dua vektor\n",
    "def penjumlahan_vektor(v1, v2):\n",
    "    return np.add(v1, v2)"
   ]
  },
  {
   "cell_type": "code",
   "execution_count": 15,
   "metadata": {},
   "outputs": [],
   "source": [
    "# Fungsi untuk mengurangkan dua vektor\n",
    "def pengurangan_vektor(v1, v2):\n",
    "    return np.subtract(v1, v2)"
   ]
  },
  {
   "cell_type": "code",
   "execution_count": 16,
   "metadata": {},
   "outputs": [],
   "source": [
    "# Fungsi untuk menghitung dot product dari dua vektor\n",
    "def dot_product(v1, v2):\n",
    "    return np.dot(v1, v2)"
   ]
  },
  {
   "cell_type": "code",
   "execution_count": 17,
   "metadata": {},
   "outputs": [],
   "source": [
    "# Fungsi untuk menghitung cross product dari dua vektor\n",
    "def cross_product(v1, v2):\n",
    "    return np.cross(v1, v2)"
   ]
  },
  {
   "cell_type": "code",
   "execution_count": 18,
   "metadata": {},
   "outputs": [],
   "source": [
    "# Data vektor\n",
    "vektor1 = np.array([1, 2, 3])\n",
    "vektor2 = np.array([4, 5, 6])"
   ]
  },
  {
   "cell_type": "code",
   "execution_count": 19,
   "metadata": {},
   "outputs": [],
   "source": [
    "# Menghitung operasi vektor\n",
    "penjumlahan = penjumlahan_vektor(vektor1, vektor2)\n",
    "pengurangan = pengurangan_vektor(vektor1, vektor2)\n",
    "dot = dot_product(vektor1, vektor2)\n",
    "cross = cross_product(vektor1, vektor2)"
   ]
  },
  {
   "cell_type": "code",
   "execution_count": 22,
   "metadata": {},
   "outputs": [
    {
     "name": "stdout",
     "output_type": "stream",
     "text": [
      "Penjumlahan vektor: [5 7 9]\n",
      "Pengurangan vektor: [-3 -3 -3]\n",
      "Dot product: 32\n",
      "Cross product: [-3  6 -3]\n"
     ]
    }
   ],
   "source": [
    "# Menampilkan hasil\n",
    "print(f\"Penjumlahan vektor: {penjumlahan}\")\n",
    "print(f\"Pengurangan vektor: {pengurangan}\")\n",
    "print(f\"Dot product: {dot}\")\n",
    "print(f\"Cross product: {cross}\")"
   ]
  },
  {
   "attachments": {},
   "cell_type": "markdown",
   "metadata": {},
   "source": [
    "# 3. Gauss's Law"
   ]
  },
  {
   "cell_type": "code",
   "execution_count": 23,
   "metadata": {},
   "outputs": [],
   "source": [
    "import numpy as np"
   ]
  },
  {
   "cell_type": "code",
   "execution_count": 26,
   "metadata": {},
   "outputs": [],
   "source": [
    "# Konstanta\n",
    "epsilon_0 = 8.854e-12  # Permitivitasi vakum dalam C^2/N·m^2"
   ]
  },
  {
   "cell_type": "code",
   "execution_count": 27,
   "metadata": {},
   "outputs": [],
   "source": [
    "# Fungsi untuk menghitung fluks listrik\n",
    "def hitung_fluks_listrik(E, A, theta):\n",
    "    # Mengkonversi sudut dari derajat ke radian\n",
    "    theta_rad = np.radians(theta)\n",
    "    \n",
    "    # Menghitung fluks listrik\n",
    "    fluks_listrik = E * A * np.cos(theta_rad)\n",
    "    return fluks_listrik"
   ]
  },
  {
   "cell_type": "code",
   "execution_count": 28,
   "metadata": {},
   "outputs": [],
   "source": [
    "# Data medan listrik, area permukaan, dan sudut\n",
    "E = 500  # Medan listrik dalam N/C\n",
    "A = 2  # Area permukaan dalam m^2\n",
    "theta = 30  # Sudut dalam derajat"
   ]
  },
  {
   "cell_type": "code",
   "execution_count": 29,
   "metadata": {},
   "outputs": [],
   "source": [
    "# Menghitung fluks listrik\n",
    "fluks = hitung_fluks_listrik(E, A, theta)"
   ]
  },
  {
   "cell_type": "code",
   "execution_count": 31,
   "metadata": {},
   "outputs": [
    {
     "name": "stdout",
     "output_type": "stream",
     "text": [
      "Fluks listrik melalui permukaan adalah 8.66e+02 N·m^2/C\n"
     ]
    }
   ],
   "source": [
    "# Menampilkan hasil\n",
    "print(f\"Fluks listrik melalui permukaan adalah {fluks:.2e} N·m^2/C\")"
   ]
  },
  {
   "attachments": {},
   "cell_type": "markdown",
   "metadata": {},
   "source": [
    "# 4. Potensial Listrik"
   ]
  },
  {
   "cell_type": "code",
   "execution_count": 32,
   "metadata": {},
   "outputs": [],
   "source": [
    "import numpy as np"
   ]
  },
  {
   "cell_type": "code",
   "execution_count": 33,
   "metadata": {},
   "outputs": [],
   "source": [
    "# Konstanta\n",
    "k = 8.99e9  # Konstanta Coulomb dalam N·m^2/C^2\n",
    "epsilon_0 = 8.854e-12  # Permitivitasi vakum dalam C^2/N·m^2"
   ]
  },
  {
   "cell_type": "code",
   "execution_count": 34,
   "metadata": {},
   "outputs": [],
   "source": [
    "# Fungsi untuk menghitung potensial listrik oleh titik muatan\n",
    "def potensial_titik_muatan(q, r):\n",
    "    return k * q / r"
   ]
  },
  {
   "cell_type": "code",
   "execution_count": 35,
   "metadata": {},
   "outputs": [],
   "source": [
    "# Fungsi untuk menghitung potensial listrik oleh garis muatan\n",
    "def potensial_garis_muatan(lambda_, r1, r2):\n",
    "    return (lambda_ / (2 * np.pi * epsilon_0)) * np.log(r2 / r1)"
   ]
  },
  {
   "cell_type": "code",
   "execution_count": 36,
   "metadata": {},
   "outputs": [],
   "source": [
    "# Fungsi untuk menghitung potensial listrik oleh beberapa titik muatan\n",
    "def potensial_beberapa_titik_muatan(muatan_posisi, titik_P):\n",
    "    V_total = 0\n",
    "    for q, x, y, z in muatan_posisi:\n",
    "        r = np.sqrt((x - titik_P[0])**2 + (y - titik_P[1])**2 + (z - titik_P[2])**2)\n",
    "        V_total += potensial_titik_muatan(q, r)\n",
    "    return V_total"
   ]
  },
  {
   "cell_type": "code",
   "execution_count": 37,
   "metadata": {},
   "outputs": [],
   "source": [
    "# Data untuk titik muatan\n",
    "q = 1e-6  # Muatan dalam Coulomb\n",
    "r = 0.05  # Jarak dalam meter"
   ]
  },
  {
   "cell_type": "code",
   "execution_count": 38,
   "metadata": {},
   "outputs": [
    {
     "name": "stdout",
     "output_type": "stream",
     "text": [
      "Potensial listrik oleh titik muatan: 1.80e+05 V\n"
     ]
    }
   ],
   "source": [
    "# Menghitung potensial listrik oleh titik muatan\n",
    "V_titik_muatan = potensial_titik_muatan(q, r)\n",
    "print(f\"Potensial listrik oleh titik muatan: {V_titik_muatan:.2e} V\")"
   ]
  },
  {
   "cell_type": "code",
   "execution_count": 39,
   "metadata": {},
   "outputs": [],
   "source": [
    "# Data untuk garis muatan\n",
    "lambda_ = 2e-6  # Densitas muatan linier dalam C/m\n",
    "r1 = 0.05  # Jarak dari ujung pertama dalam meter\n",
    "r2 = 0.1  # Jarak dari ujung kedua dalam meter\n"
   ]
  },
  {
   "cell_type": "code",
   "execution_count": 40,
   "metadata": {},
   "outputs": [
    {
     "name": "stdout",
     "output_type": "stream",
     "text": [
      "Potensial listrik oleh garis muatan: 2.49e+04 V\n"
     ]
    }
   ],
   "source": [
    "# Menghitung potensial listrik oleh garis muatan\n",
    "V_garis_muatan = potensial_garis_muatan(lambda_, r1, r2)\n",
    "print(f\"Potensial listrik oleh garis muatan: {V_garis_muatan:.2e} V\")\n"
   ]
  },
  {
   "cell_type": "code",
   "execution_count": 41,
   "metadata": {},
   "outputs": [],
   "source": [
    "# Data untuk beberapa titik muatan\n",
    "muatan_posisi = [\n",
    "    (1e-6, 0, 0, 0),  # Muatan 1 mikroCoulomb di (0, 0, 0)\n",
    "    (-2e-6, 0.05, 0, 0)  # Muatan -2 mikroCoulomb di (0.05, 0, 0)\n",
    "]\n",
    "titik_P = (0.1, 0, 0)  # Koordinat titik P"
   ]
  },
  {
   "cell_type": "code",
   "execution_count": 42,
   "metadata": {},
   "outputs": [
    {
     "name": "stdout",
     "output_type": "stream",
     "text": [
      "Potensial listrik oleh beberapa titik muatan: -2.70e+05 V\n"
     ]
    }
   ],
   "source": [
    "# Menghitung potensial listrik oleh beberapa titik muatan\n",
    "V_beberapa_titik_muatan = potensial_beberapa_titik_muatan(muatan_posisi, titik_P)\n",
    "print(f\"Potensial listrik oleh beberapa titik muatan: {V_beberapa_titik_muatan:.2e} V\")"
   ]
  }
 ],
 "metadata": {
  "kernelspec": {
   "display_name": "Python 3",
   "language": "python",
   "name": "python3"
  },
  "language_info": {
   "codemirror_mode": {
    "name": "ipython",
    "version": 3
   },
   "file_extension": ".py",
   "mimetype": "text/x-python",
   "name": "python",
   "nbconvert_exporter": "python",
   "pygments_lexer": "ipython3",
   "version": "3.11.2 (tags/v3.11.2:878ead1, Feb  7 2023, 16:38:35) [MSC v.1934 64 bit (AMD64)]"
  },
  "orig_nbformat": 4,
  "vscode": {
   "interpreter": {
    "hash": "5238573367df39f7286bb46f9ff5f08f63a01a80960060ce41e3c79b190280fa"
   }
  }
 },
 "nbformat": 4,
 "nbformat_minor": 2
}
